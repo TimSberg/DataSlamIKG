{
 "cells": [
  {
   "cell_type": "code",
   "execution_count": 1,
   "id": "c5f3f19a-f793-4e6e-b848-79ae88bf894c",
   "metadata": {
    "tags": []
   },
   "outputs": [],
   "source": [
    "import pandas as pd\n",
    "import matplotlib.pyplot as plt\n",
    "import ipywidgets as widgets\n",
    "import seaborn as sns"
   ]
  },
  {
   "cell_type": "code",
   "execution_count": 2,
   "id": "de2d615c-bc9d-4914-97dd-9ce0c790b8ab",
   "metadata": {
    "tags": []
   },
   "outputs": [],
   "source": [
    "file_path = \"data/Sterbefaelleprotag.csv\""
   ]
  },
  {
   "cell_type": "code",
   "execution_count": 3,
   "id": "5ad103f4-c1f0-443c-aaef-0f2a54c8fb75",
   "metadata": {
    "tags": []
   },
   "outputs": [],
   "source": [
    "#pd.read_csv(file_path)"
   ]
  },
  {
   "cell_type": "code",
   "execution_count": 4,
   "id": "df91221c-d3da-4a4e-ab54-9e09a648da29",
   "metadata": {
    "tags": []
   },
   "outputs": [],
   "source": [
    "#pd.read_csv(file_path).head()"
   ]
  },
  {
   "cell_type": "code",
   "execution_count": 5,
   "id": "113eb00b-8e7b-4605-8b8f-bed111ea6beb",
   "metadata": {},
   "outputs": [],
   "source": [
    "#Delimiter in Datei zu ';' gewechselt"
   ]
  },
  {
   "cell_type": "code",
   "execution_count": 6,
   "id": "d91fe403-30f9-4913-b58b-d4c2e3fe4499",
   "metadata": {
    "tags": []
   },
   "outputs": [],
   "source": [
    "#print(pd.read_csv(file_path, delimiter=';').head())"
   ]
  },
  {
   "cell_type": "code",
   "execution_count": 7,
   "id": "60255548-05b4-4a0c-bbfc-ea5e403e07a4",
   "metadata": {
    "tags": []
   },
   "outputs": [],
   "source": [
    "data = pd.read_csv(file_path, delimiter=';')"
   ]
  },
  {
   "cell_type": "code",
   "execution_count": 8,
   "id": "55e44f06-5953-4c66-adf0-7ade7dddcf53",
   "metadata": {
    "tags": []
   },
   "outputs": [],
   "source": [
    "#Leere spalten entfernen\n",
    "data = data.drop(columns=['Unnamed: 8', 'Unnamed: 9', 'Unnamed: 10', 'Unnamed: 11'])"
   ]
  },
  {
   "cell_type": "code",
   "execution_count": 9,
   "id": "815f4f6b-f63c-4bcf-af95-660ac57cb90d",
   "metadata": {
    "tags": []
   },
   "outputs": [],
   "source": [
    "#print(data.info())"
   ]
  },
  {
   "cell_type": "code",
   "execution_count": 10,
   "id": "99016b03-3ba0-494e-9094-87ecb566f282",
   "metadata": {
    "tags": []
   },
   "outputs": [],
   "source": [
    "# Sterbefaelle am 29.02. sind als 'X' angegeben. Dieser Tag existiert nur in Schaltjahren. Die Zeilen mit X sollte ich entfernen\n",
    "\n",
    "data = data[data['Sterbefaelle'] != 'X']\n",
    "#data.head(428) #zeigt: 29.02.2001 fehlt"
   ]
  },
  {
   "cell_type": "code",
   "execution_count": 11,
   "id": "488367f4-2ade-4729-93bb-1df54d2c2a8a",
   "metadata": {
    "tags": []
   },
   "outputs": [],
   "source": [
    "#data.sort_values(['Sterbefaelle'],ascending=False)"
   ]
  },
  {
   "cell_type": "code",
   "execution_count": 12,
   "id": "ee0e0c38-1eff-4877-8ea2-71fd0e64b124",
   "metadata": {
    "tags": []
   },
   "outputs": [],
   "source": [
    "#data['Sterbefaelle'].mean()\n",
    "#sterbefaelle in int umwandeln\n",
    "data[\"Sterbefaelle\"] = data[\"Sterbefaelle\"].astype(int)"
   ]
  },
  {
   "cell_type": "code",
   "execution_count": 13,
   "id": "095163b8-c640-45ab-9ef0-25571f9df54d",
   "metadata": {
    "tags": []
   },
   "outputs": [],
   "source": [
    "#Sterbefaelle durchschnitt\n",
    "#print(data[\"Sterbefaelle\"].mean())\n",
    "#print(data[\"Sterbefaelle\"].max())"
   ]
  },
  {
   "cell_type": "code",
   "execution_count": 14,
   "id": "81167a28-c231-45f6-909a-52a4f2f408e1",
   "metadata": {
    "tags": []
   },
   "outputs": [],
   "source": [
    "#Sterbefaelle Insgesamt ausschließen\n",
    "data_no_insgesamt = data[data['Sterbedatum'] != 'Insgesamt']\n",
    "data_insgesamt = data[data['Sterbedatum'] == 'Insgesamt']\n"
   ]
  },
  {
   "cell_type": "code",
   "execution_count": 15,
   "id": "4f574196-cfe0-4e41-ab2e-09625ddb2ee7",
   "metadata": {
    "tags": []
   },
   "outputs": [],
   "source": [
    "#data_no_insgesamt.info()"
   ]
  },
  {
   "cell_type": "code",
   "execution_count": 16,
   "id": "0626d482-9b7e-4f6b-ac12-0dd6b62f7183",
   "metadata": {
    "tags": []
   },
   "outputs": [],
   "source": [
    "#data_insgesamt.info()"
   ]
  },
  {
   "cell_type": "code",
   "execution_count": 17,
   "id": "ed47e2d9-7c0f-4279-9c0a-8663b0987872",
   "metadata": {
    "tags": []
   },
   "outputs": [],
   "source": [
    "#display(data_insgesamt)"
   ]
  },
  {
   "cell_type": "code",
   "execution_count": 18,
   "id": "9c0b96d7-21f6-4804-8e11-8cef2051febe",
   "metadata": {
    "tags": []
   },
   "outputs": [],
   "source": [
    "#data_no_insgesamt.sort_values(['Sterbefaelle'],ascending=False)"
   ]
  },
  {
   "cell_type": "code",
   "execution_count": 19,
   "id": "03fee75c-08f7-4031-9a45-0b7e5a80c072",
   "metadata": {
    "tags": []
   },
   "outputs": [],
   "source": [
    "#data.head(5)"
   ]
  },
  {
   "cell_type": "code",
   "execution_count": 20,
   "id": "cbc5b0e6-ef41-4cbb-b3ae-d4f40ce36039",
   "metadata": {
    "tags": []
   },
   "outputs": [],
   "source": [
    "mean_mort_day = data_no_insgesamt[\"Sterbefaelle\"].mean()\n",
    "mean_mort_year = data_insgesamt['Sterbefaelle'].mean()\n",
    "#print(f\"Zwischen 2000 u. 2019 starben pro Tag im Durchschnitt {mean_mort_day} Menschen\")\n",
    "#print(f\"Zwischen 2000 u. 2019 starben pro Jahr im Durchschnitt {mean_mort_year} Menschen\")\n",
    "\n",
    "#print(data_insgesamt[\"Sterbefaelle\"].max())\n",
    "#print(data_no_insgesamt[\"Sterbefaelle\"].max())"
   ]
  },
  {
   "cell_type": "code",
   "execution_count": 21,
   "id": "092c644c-e7fb-4ca5-8a6a-8da985b269fa",
   "metadata": {
    "tags": []
   },
   "outputs": [],
   "source": [
    "#data_no_insgesamt.loc[data_no_insgesamt.groupby('Sterbefaelle')[\"Jahre\"].idxmax()]\n",
    "#day_max_deaths = data_no_insgesamt.loc[data_no_insgesamt.groupby('Sterbefaelle')['Datum'].idxmax()]\n",
    "#print(day_ max_deaths)\n",
    "#Jahr mit höchsten Toden ausgeben\n",
    "#print(data_no_insgesamt.groupby('Sterbefaelle').max())"
   ]
  },
  {
   "cell_type": "code",
   "execution_count": 22,
   "id": "61e98f52-be2d-4ee6-be5c-8550e69d6b4c",
   "metadata": {
    "tags": []
   },
   "outputs": [],
   "source": [
    "#print(data.info())\n",
    "#print(data_no_insgesamt.info())"
   ]
  },
  {
   "cell_type": "code",
   "execution_count": 23,
   "id": "2406d407-6429-436a-b52e-252ecdd2d0d9",
   "metadata": {
    "tags": []
   },
   "outputs": [],
   "source": [
    "#Herausfinden welche Jahre behandelt werden\n",
    "anfangsjahr = data[\"Jahre\"].min()\n",
    "endjahr = data[\"Jahre\"].max()\n",
    "#print(data[\"Jahre\"].unique())\n",
    "#print(f\"Die Statistik behandelt die Jahre {anfangsjahr} bis {endjahr}\")"
   ]
  },
  {
   "cell_type": "code",
   "execution_count": 24,
   "id": "26ccbf33-920f-4311-9aea-605b92919877",
   "metadata": {
    "tags": []
   },
   "outputs": [],
   "source": [
    "#Spezifische Zeilen drucken\n",
    "#Ziel: z.B. Zeile eines spezifischen Datums drucken\n",
    "jahr = 2000\n",
    "datum = '01.01.'\n",
    "#data[(data['Jahre'] == jahr) & (data['Sterbedatum'] == datum)]"
   ]
  },
  {
   "cell_type": "code",
   "execution_count": 25,
   "id": "84424720-5a66-46cd-8a6d-c63c2bbe56f6",
   "metadata": {
    "tags": []
   },
   "outputs": [],
   "source": [
    "#Ziel: Einzelnen Wert der Zeile drucken\n",
    "#['Sterbefaelle'].iloc[0] um nur den Wert Sterbefaelle auszugeben\n",
    "#data[(data['Jahre'] == jahr) & (data['Sterbedatum'] == datum)]['Sterbefaelle'].iloc[0]"
   ]
  },
  {
   "cell_type": "markdown",
   "id": "47434450-eb60-4651-a822-8523d9922c4f",
   "metadata": {},
   "source": [
    "**Sommerzeiten**:\n",
    "26.03.2000-29.10.2000,\n",
    "25.03.2001-28.10.2001,\n",
    "31.03.2002-27.10.2002,\n",
    "30.03.2003-26.10.2003,\n",
    "28.03.2004-31.10.2004,\n",
    "27.03.2005-30.10.2005,\n",
    "26.03.2006-29.10.2006,\n",
    "25.03.2007-28.10.2007,\n",
    "30.03.2008-26.10.2008,\n",
    "29.03.2009-25.10.2009,\n",
    "28.03.2010-31.10.2010,\n",
    "27.03.2011-30.10.2011,\n",
    "25.03.2012-28.10.2012,\n",
    "31.03.2013-27.10.2013,\n",
    "30.03.2014-26.10.2014,\n",
    "29.03.2015-25.10.2015,\n",
    "27.03.2016-30.10.2016,\n",
    "26.03.2017-29.10.2017,\n",
    "25.03.2018-28.10.2018,\n",
    "31.03.2019-27.10.2019"
   ]
  },
  {
   "cell_type": "code",
   "execution_count": 27,
   "id": "2a78932e-6f6b-4228-a4f9-89f620dd806b",
   "metadata": {
    "tags": []
   },
   "outputs": [],
   "source": [
    "#Um mit Datumsspannen zu arbeiten, ist es besser, das Datum in eine Datumsformat umzuwandeln\n",
    "#data_no_insgesamt.info()\n"
   ]
  },
  {
   "cell_type": "code",
   "execution_count": 28,
   "id": "94e9e901-66f0-4ab6-bead-be8abb6d075d",
   "metadata": {
    "tags": []
   },
   "outputs": [],
   "source": [
    "data['Sterbedatum'] = pd.to_datetime(data['Sterbedatum'], format='%d.%m.', errors='coerce', yearfirst=False)\n",
    "\n",
    "#data.head()"
   ]
  },
  {
   "cell_type": "code",
   "execution_count": 29,
   "id": "cb463129-3697-486a-bd48-ee207acf3df8",
   "metadata": {
    "tags": []
   },
   "outputs": [],
   "source": [
    "#data.head(505)"
   ]
  },
  {
   "cell_type": "code",
   "execution_count": 30,
   "id": "a51f637c-b237-47b8-928d-a1c31b50ca1d",
   "metadata": {
    "tags": []
   },
   "outputs": [],
   "source": [
    "#Jahresangabe durch Zahl aus Spalte 'Jahre' ersetzen\n",
    "data['Sterbedatum'] = data.apply(lambda row: row['Sterbedatum'].replace(year=row['Jahre']), axis=1)\n",
    "#data.head()"
   ]
  },
  {
   "cell_type": "code",
   "execution_count": 31,
   "id": "c756c501-f8e5-46cd-b4ef-dc58260737eb",
   "metadata": {
    "tags": []
   },
   "outputs": [],
   "source": [
    "# Sommerzeiten definieren in liste\n",
    "sommerzeiten = ['2000.26.03.','2001.25.03.','2002.31.03.','2003.30.03.','2004.28.03.','2005.27.03.','2006.26.03.','2007.25.03.','2008.30.03.','2009.29.03.','2010.28.03.','2011.27.03.','2012.25.03.','2013.31.03.','2014.30.03.','2015.29.03.','2016.27.03.','2017.26.03.','2018.25.03.','2019.31.03.']\n",
    "sommerzeiten_dates = pd.to_datetime(sommerzeiten, format='%Y.%d.%m.', errors='coerce') #Daten zu pandas-Datenformat umformatieren\n",
    "#print(sommerzeiten_dates)"
   ]
  },
  {
   "cell_type": "code",
   "execution_count": 32,
   "id": "f2c18cde-302a-4395-b984-b06fb3f190c5",
   "metadata": {
    "tags": []
   },
   "outputs": [],
   "source": [
    "#str(data[(data['Sterbedatum'] == '2000-03-26')]['Sterbefaelle'].iloc[0])"
   ]
  },
  {
   "cell_type": "code",
   "execution_count": 33,
   "id": "69f56f1b-67af-4315-b92f-1880adfda5d7",
   "metadata": {
    "tags": []
   },
   "outputs": [],
   "source": [
    "#for i in range(len(sommerzeiten_dates)):\n",
    " #   date = sommerzeiten_dates[i].strftime('%d.%m.%Y') #Datum formatieren\n",
    "  #  sterbefaelle = data[(data['Sterbedatum'] == date)]['Sterbefaelle'].iloc[0]\n",
    "   # print(f\"Am {date} starben \" + str(sterbefaelle))\n",
    "         "
   ]
  },
  {
   "cell_type": "code",
   "execution_count": 34,
   "id": "1cfd87e6-22a5-4baa-976b-3e6a63dd45b3",
   "metadata": {},
   "outputs": [
    {
     "data": {
      "text/plain": [
       "'for i in range(7):\\n    date = sommerzeiten_dates[i].strftime(\\'%d.%m.%Y\\') #Datum formatieren\\n    sterbefaelle = data[(data[\\'Sterbedatum\\'] == date)][\\'Sterbefaelle\\'].iloc[0]\\n    print(f\"Am {date} starben \" + str(sterbefaelle))\\n    '"
      ]
     },
     "execution_count": 34,
     "metadata": {},
     "output_type": "execute_result"
    }
   ],
   "source": [
    "mort_after = []\n",
    "'''for i in range(7):\n",
    "    date = sommerzeiten_dates[i].strftime('%d.%m.%Y') #Datum formatieren\n",
    "    sterbefaelle = data[(data['Sterbedatum'] == date)]['Sterbefaelle'].iloc[0]\n",
    "    print(f\"Am {date} starben \" + str(sterbefaelle))\n",
    "    '''"
   ]
  },
  {
   "cell_type": "code",
   "execution_count": 35,
   "id": "30cbb7ac-d8f8-48d4-9db0-adb2c55010a6",
   "metadata": {
    "tags": []
   },
   "outputs": [],
   "source": [
    "#sterbefaelle2000 = data[(data['Sterbedatum'] <= '2000-01-05')]['Sterbefaelle'].values #sterbefaelle in array umwandeln\n",
    "#print(sterbefaelle2000)"
   ]
  },
  {
   "cell_type": "code",
   "execution_count": 36,
   "id": "958d2c4c-5fc4-4d0c-b385-a22e8338555a",
   "metadata": {
    "tags": []
   },
   "outputs": [
    {
     "data": {
      "text/plain": [
       "\"\\ntage = 5\\n\\ndaysafter = pd.date_range(start=sommerzeiten_dates[0],end=None, periods = tage, freq='D') #mm.dd.yyyy\\ndaysbefore = pd.date_range(start=None,end=sommerzeiten_dates[0]-pd.Timedelta(days=1), periods = tage, freq='D') #mm.dd.yyyy\\nprint(daysafter)\\nprint(daysbefore)\\n\\nListe mit Sterbefaellen, die i Tage nach sommerzeit passiert sind\\nlist=[]\\nfor i in range(len(daysafter)):\\n    list.append(data[(data['Sterbedatum'] == daysafter[i])]['Sterbefaelle'].iloc[0])\\nprint(list)\\n\\n#Liste mit Sterbefaellen, die i Tage vor sommerzeit passiert sind\\nlist=[]\\nfor i in range(len(daysbefore)):\\n    list.append(data[(data['Sterbedatum'] == daysbefore[i])]['Sterbefaelle'].iloc[0])\\nprint(list)\\n\""
      ]
     },
     "execution_count": 36,
     "metadata": {},
     "output_type": "execute_result"
    }
   ],
   "source": [
    "# datarange i Tage vor/nach Beginn der Sommerzeit\n",
    "'''\n",
    "tage = 5\n",
    "\n",
    "daysafter = pd.date_range(start=sommerzeiten_dates[0],end=None, periods = tage, freq='D') #mm.dd.yyyy\n",
    "daysbefore = pd.date_range(start=None,end=sommerzeiten_dates[0]-pd.Timedelta(days=1), periods = tage, freq='D') #mm.dd.yyyy\n",
    "print(daysafter)\n",
    "print(daysbefore)\n",
    "\n",
    "Liste mit Sterbefaellen, die i Tage nach sommerzeit passiert sind\n",
    "list=[]\n",
    "for i in range(len(daysafter)):\n",
    "    list.append(data[(data['Sterbedatum'] == daysafter[i])]['Sterbefaelle'].iloc[0])\n",
    "print(list)\n",
    "\n",
    "#Liste mit Sterbefaellen, die i Tage vor sommerzeit passiert sind\n",
    "list=[]\n",
    "for i in range(len(daysbefore)):\n",
    "    list.append(data[(data['Sterbedatum'] == daysbefore[i])]['Sterbefaelle'].iloc[0])\n",
    "print(list)\n",
    "'''"
   ]
  },
  {
   "cell_type": "code",
   "execution_count": 37,
   "id": "b03025f6-c83f-4ea4-badb-14578b035564",
   "metadata": {
    "tags": []
   },
   "outputs": [],
   "source": [
    "#Sommerzeit fpr ein gegebenes Jahr herausfinden\n",
    "def find_sommerzeit(jahr):\n",
    "    for d in sommerzeiten_dates:\n",
    "        if str(jahr) in str(d):\n",
    "            sommerzeit = d\n",
    "            break\n",
    "    return sommerzeit"
   ]
  },
  {
   "cell_type": "code",
   "execution_count": 38,
   "id": "80d57e18-8ef2-47e7-93a2-f515c58e1c6a",
   "metadata": {
    "tags": []
   },
   "outputs": [],
   "source": [
    "#find_sommerzeit(2019)"
   ]
  },
  {
   "cell_type": "code",
   "execution_count": 39,
   "id": "ca1f8f27-ef41-4d65-a328-a8ef37fb04e6",
   "metadata": {
    "tags": []
   },
   "outputs": [],
   "source": [
    "def sterbefaelle_lists(jahr, tage):\n",
    "    sommerzeit = find_sommerzeit(jahr)\n",
    "            \n",
    "    sterbefaelle_after = []\n",
    "    sterbefaelle_before = []\n",
    "    \n",
    "    daysafter = pd.date_range(start=sommerzeit,end=None, periods=tage, freq='D')\n",
    "    daysbefore = pd.date_range(start=None,end=sommerzeit-pd.Timedelta(days=1), periods=tage, freq='D')\n",
    "    #Liste mit Sterbefaellen, die i Tage nach sommerzeit passiert sind\n",
    "    for i in range(len(daysafter)):\n",
    "        sterbefaelle_after.append(data[(data['Sterbedatum'] == daysafter[i])]['Sterbefaelle'].iloc[0])\n",
    "    #Liste mit Sterbefaellen, die i Tage vor sommerzeit passiert sind\n",
    "    for i in range(len(daysbefore)):\n",
    "        sterbefaelle_before.append(data[(data['Sterbedatum'] == daysbefore[i])]['Sterbefaelle'].iloc[0])\n",
    "    return sterbefaelle_before, sterbefaelle_after\n",
    "    \n",
    "    #print(sterbefaelle_after)\n",
    "    #print(sterbefaelle_before)"
   ]
  },
  {
   "cell_type": "code",
   "execution_count": 40,
   "id": "633cb08d-06e2-4aba-83b4-4ec981fee76c",
   "metadata": {
    "tags": []
   },
   "outputs": [],
   "source": [
    "#sterbefaelle_lists(2000,4)"
   ]
  },
  {
   "cell_type": "code",
   "execution_count": 41,
   "id": "ac76d18e-9356-4360-b305-a8c943b8c634",
   "metadata": {},
   "outputs": [],
   "source": [
    "#for i in range(len(daysafter)):\n",
    " #   print(f\"Am {sommerzeiten_dates[i]} starben "
   ]
  },
  {
   "cell_type": "code",
   "execution_count": 42,
   "id": "7acc6f2a-3e92-44a6-8057-301f2af47646",
   "metadata": {
    "tags": []
   },
   "outputs": [],
   "source": [
    "#data.head(7)"
   ]
  },
  {
   "cell_type": "code",
   "execution_count": 43,
   "id": "9c378a1d-842e-4df3-b3ae-f5a474ddbcd6",
   "metadata": {
    "tags": []
   },
   "outputs": [],
   "source": [
    "#data[(data['Sterbedatum'] == sommerzeiten_dates[0])]['Sterbefaelle'].iloc[0]"
   ]
  },
  {
   "cell_type": "code",
   "execution_count": 44,
   "id": "2a68c606-3208-4a6e-b777-e85c189e2175",
   "metadata": {
    "tags": []
   },
   "outputs": [],
   "source": [
    "#print([data[\"Jahre\"].unique()])"
   ]
  },
  {
   "cell_type": "code",
   "execution_count": 45,
   "id": "934f7f0f-f995-47af-8b22-0be5ab3fdb49",
   "metadata": {
    "tags": []
   },
   "outputs": [],
   "source": [
    "#Widgets definieren\n",
    "year_dropdown = widgets.Dropdown(\n",
    "    options = [str(year) for year in data[\"Jahre\"].unique()], # Dropdown-Optionen für die Jahre 2000-2019\n",
    "    description='Jahr:', # Beschriftung des Dropdowns\n",
    ")\n",
    "\n",
    "tage_slider = widgets.IntSlider(\n",
    "    min=1,\n",
    "    max=14,\n",
    "    value=7,\n",
    "    description = 'Tage:')"
   ]
  },
  {
   "cell_type": "code",
   "execution_count": 46,
   "id": "1c17c116-017f-4d5a-ab53-f3660910455b",
   "metadata": {
    "tags": []
   },
   "outputs": [
    {
     "data": {
      "text/plain": [
       "'\\n@widgets.interact(jahr=year_dropdown,tage=tage_slider) #range\\ndef plot(jahr=2000,tage=7):\\n    data_to_plot = sterbefaelle_lists(jahr, tage)\\n    # Create a figure instance\\n    fig = plt.figure()\\n    # Create an axes instance\\n    ax = fig.add_axes([0,0,1,1])\\n    #labels\\n    ax.set_xlabel(f\\'{tage} Tage vor/nach Umstellung zur Sommerzeit\\')\\n    ax.set_ylabel(\\'Sterbefälle\\')\\n    ax.set_title(f\\'Violinplot der Sterbefälle um Beginn der Sommerzeit {jahr}\\')\\n    #create Boxplot\\n    bp = ax.violinplot(data_to_plot, showmedians=True)\\n    colors = [\\'blue\\', \\'green\\', \\'orange\\']\\n    plt.show()\\n    #print(f\"Die Sommerzeit begann am {sommerzeit.strftime(\\'%d.%m.%Y\\')}\")\\n    print(f\"Anmerkung: Sterbefälle vor Zeitumstellung: {data_to_plot[0]}, Sterbefälle nach Zeitumstellung: {data_to_plot[1]}\")\\n    print(f\"Die Sommerzeit begann am {find_sommerzeit(jahr).strftime(\\'%d.%m.%Y\\')}\")\\n    '"
      ]
     },
     "execution_count": 46,
     "metadata": {},
     "output_type": "execute_result"
    }
   ],
   "source": [
    "'''\n",
    "@widgets.interact(jahr=year_dropdown,tage=tage_slider) #range\n",
    "def plot(jahr=2000,tage=7):\n",
    "    data_to_plot = sterbefaelle_lists(jahr, tage)\n",
    "    # Create a figure instance\n",
    "    fig = plt.figure()\n",
    "    # Create an axes instance\n",
    "    ax = fig.add_axes([0,0,1,1])\n",
    "    #labels\n",
    "    ax.set_xlabel(f'{tage} Tage vor/nach Umstellung zur Sommerzeit')\n",
    "    ax.set_ylabel('Sterbefälle')\n",
    "    ax.set_title(f'Violinplot der Sterbefälle um Beginn der Sommerzeit {jahr}')\n",
    "    #create Boxplot\n",
    "    bp = ax.violinplot(data_to_plot, showmedians=True)\n",
    "    colors = ['blue', 'green', 'orange']\n",
    "    plt.show()\n",
    "    #print(f\"Die Sommerzeit begann am {sommerzeit.strftime('%d.%m.%Y')}\")\n",
    "    print(f\"Anmerkung: Sterbefälle vor Zeitumstellung: {data_to_plot[0]}, Sterbefälle nach Zeitumstellung: {data_to_plot[1]}\")\n",
    "    print(f\"Die Sommerzeit begann am {find_sommerzeit(jahr).strftime('%d.%m.%Y')}\")\n",
    "    '''"
   ]
  },
  {
   "cell_type": "code",
   "execution_count": 47,
   "id": "96fdeefa-5ed1-40e3-bc56-a4e10f3504d5",
   "metadata": {
    "tags": []
   },
   "outputs": [
    {
     "data": {
      "application/vnd.jupyter.widget-view+json": {
       "model_id": "7268c8de66a6487380a2682d0d47592c",
       "version_major": 2,
       "version_minor": 0
      },
      "text/plain": [
       "interactive(children=(Dropdown(description='Jahr:', options=('2000', '2001', '2002', '2003', '2004', '2005', '…"
      ]
     },
     "metadata": {},
     "output_type": "display_data"
    }
   ],
   "source": [
    "#Seaborn violinplot\n",
    "@widgets.interact(jahr=year_dropdown,tage=tage_slider) #range\n",
    "def plot(jahr=2000, tage=7):\n",
    "    data_to_plot = sterbefaelle_lists(jahr, tage)\n",
    "    \n",
    "    # Erstellen des Violinplots mit Seaborn\n",
    "    plt.figure()\n",
    "    sns.violinplot(data=data_to_plot, linewidth=2)\n",
    "    plt.xlabel(f'Betrachtungszeitraum: {tage} Tage')\n",
    "    plt.ylabel('Sterbefälle')\n",
    "    plt.title(f'Violinplot der Sterbefälle um Beginn der Sommerzeit {jahr}')\n",
    "    plt.xticks([0, 1], ['Vor Zeitumstellung', 'Nach Zeitumstellung'])\n",
    "    plt.grid(True)\n",
    "    plt.show()\n",
    "    \n",
    "    print(f\"Anmerkung: Die Sommerzeit begann am {find_sommerzeit(jahr).strftime('%d.%m.%Y')}\")\n",
    "    \n",
    "    tabelle = pd.DataFrame({\n",
    "    'Vor Zeitumstellung': data_to_plot[0],\n",
    "    'Nach Zeitumstellung': data_to_plot[1]\n",
    "    })\n",
    "\n",
    "    display(tabelle)\n",
    "    \n",
    "    "
   ]
  },
  {
   "cell_type": "code",
   "execution_count": 48,
   "id": "82ff3ad3-c077-4b79-ae67-5ab5ab769aff",
   "metadata": {
    "tags": []
   },
   "outputs": [
    {
     "data": {
      "text/plain": [
       "'\\n@widgets.interact(jahr=year_dropdown,tage=tage_slider) #range\\ndef plot(jahr=2000,tage=7):\\n    data_to_plot = sterbefaelle_lists(jahr, tage)\\n    print(f\"Sterbefälle: {data_to_plot}\")\\n    # Create a figure instance\\n    fig = plt.figure()\\n    # Create an axes instance\\n    ax = fig.add_axes([0,0,1,1])\\n    #labels\\n    ax.set_xlabel(f\\'{tage} Tage vor/nach Umstellung zur Sommerzeit\\')\\n    ax.set_ylabel(\\'Sterbefälle\\')\\n    ax.set_title(f\\'Boxplot der Sterbefälle um Sommerzeit {jahr}\\')\\n    #create Boxplot\\n    bp = ax.boxplot(data_to_plot)\\n    colors = [\\'blue\\', \\'green\\', \\'orange\\']\\n    plt.show()\\n    '"
      ]
     },
     "execution_count": 48,
     "metadata": {},
     "output_type": "execute_result"
    }
   ],
   "source": [
    "#Boxplot als alternative\n",
    "'''\n",
    "@widgets.interact(jahr=year_dropdown,tage=tage_slider) #range\n",
    "def plot(jahr=2000,tage=7):\n",
    "    data_to_plot = sterbefaelle_lists(jahr, tage)\n",
    "    print(f\"Sterbefälle: {data_to_plot}\")\n",
    "    # Create a figure instance\n",
    "    fig = plt.figure()\n",
    "    # Create an axes instance\n",
    "    ax = fig.add_axes([0,0,1,1])\n",
    "    #labels\n",
    "    ax.set_xlabel(f'{tage} Tage vor/nach Umstellung zur Sommerzeit')\n",
    "    ax.set_ylabel('Sterbefälle')\n",
    "    ax.set_title(f'Boxplot der Sterbefälle um Sommerzeit {jahr}')\n",
    "    #create Boxplot\n",
    "    bp = ax.boxplot(data_to_plot)\n",
    "    colors = ['blue', 'green', 'orange']\n",
    "    plt.show()\n",
    "    '''"
   ]
  },
  {
   "cell_type": "code",
   "execution_count": 49,
   "id": "9b446d71-21ce-4b31-86bb-1fbba9084133",
   "metadata": {
    "tags": []
   },
   "outputs": [
    {
     "data": {
      "text/plain": [
       "'\\n@widgets.interact(jahr=year_dropdown,tage=tage_slider) #range\\ndef plot(jahr=2000,tage=7):\\n    data_to_plot = sterbefaelle_lists(jahr, tage)\\n    print(f\"Sterbefälle: {data_to_plot}\")\\n    # Create a figure instance\\n    fig = plt.figure()\\n    # Create an axes instance\\n    ax = fig.add_axes([0,0,1,1])\\n    #labels\\n    ax.set_xlabel(f\\'{tage} Tage vor/nach Umstellung zur Sommerzeit\\')\\n    ax.set_ylabel(\\'Sterbefälle\\')\\n    ax.set_title(f\\'Boxplot der Sterbefälle um Sommerzeit {jahr}\\')\\n    #create Boxplot\\n    bp = ax.hist(data_to_plot)\\n    colors = [\\'blue\\', \\'green\\', \\'orange\\']\\n    plt.show()\\n    '"
      ]
     },
     "execution_count": 49,
     "metadata": {},
     "output_type": "execute_result"
    }
   ],
   "source": [
    "#Histogram als alternative\n",
    "'''\n",
    "@widgets.interact(jahr=year_dropdown,tage=tage_slider) #range\n",
    "def plot(jahr=2000,tage=7):\n",
    "    data_to_plot = sterbefaelle_lists(jahr, tage)\n",
    "    print(f\"Sterbefälle: {data_to_plot}\")\n",
    "    # Create a figure instance\n",
    "    fig = plt.figure()\n",
    "    # Create an axes instance\n",
    "    ax = fig.add_axes([0,0,1,1])\n",
    "    #labels\n",
    "    ax.set_xlabel(f'{tage} Tage vor/nach Umstellung zur Sommerzeit')\n",
    "    ax.set_ylabel('Sterbefälle')\n",
    "    ax.set_title(f'Boxplot der Sterbefälle um Sommerzeit {jahr}')\n",
    "    #create Boxplot\n",
    "    bp = ax.hist(data_to_plot)\n",
    "    colors = ['blue', 'green', 'orange']\n",
    "    plt.show()\n",
    "    '''"
   ]
  }
 ],
 "metadata": {
  "kernelspec": {
   "display_name": "Python 3 (ipykernel)",
   "language": "python",
   "name": "python3"
  },
  "language_info": {
   "codemirror_mode": {
    "name": "ipython",
    "version": 3
   },
   "file_extension": ".py",
   "mimetype": "text/x-python",
   "name": "python",
   "nbconvert_exporter": "python",
   "pygments_lexer": "ipython3",
   "version": "3.11.7"
  }
 },
 "nbformat": 4,
 "nbformat_minor": 5
}
