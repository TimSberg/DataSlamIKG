{
 "cells": [
  {
   "cell_type": "markdown",
   "id": "56509310-7a8b-4819-a500-5dc6aaf271bd",
   "metadata": {},
   "source": [
    "# Projektarbeit \n",
    "## Thema: Auswirkungen von Schlafmangel auf die Mortalität in Deutschland\n",
    "#### Sommersemester 2024\n",
    "**Tim Schallenberg**\n",
    "\n",
    "<!--\n",
    "Artikel: https://www.nature.com/articles/s41467-024-45837-4 \n",
    "-->"
   ]
  },
  {
   "cell_type": "markdown",
   "id": "c7b0c14b-5dda-4211-b4e0-a042e0424cd8",
   "metadata": {},
   "source": [
    "### Sommerzeit in Europa\n",
    "Die Sommerzeit beginnt in Mitteleuropa jeweils am letzten Sonntag im März um 2:00 Uhr mitteleuropäischer Zeit.\n",
    "Die Zeitumstellung auf die Winterzeit findet immer am letzten Sonntag im Oktober um 3:00 Uhr statt\n",
    "\n",
    "Schon seit der Einführung der Sommerzeit im Jahre 1980 wird über den Sinn dieser Maßnahme gestritten, denn die Zeitumstellung bringt ein Problem mit sich: Die Betroffenen Individuen schlafen in der Folgewoche weniger (Malow, 2022). \n",
    "\n",
    "### Bedeutsamkeit von Schlafquantität\n",
    "Genügend Schlaf ist besonders wichtig für den Menschen. Es hat Auswirkungen auf kognitive und physische Fähigkeiten. Wird die Schlafquantität beeinträchtigt, können diese Fähigkeiten im Verlaufe der Folgetage eingeschränkt sein.\n",
    "\n",
    "### Auswirkungen von Schlafmangel auf Mortalität\n",
    "Klerman et al. machen deutlich, dass der Schlafmangel, welcher durch die Zeitumstellung zur Sommerzeit hervorgerufen wird, Auswirkungen auf die Mortalitätsrate eines Landes haben kann (2024). Besonders betroffen sind dabei Tode durch Herzinfarkte und Schlaganfälle. Dieser Effekt wird in diesem Artikel beobachtet.\n"
   ]
  },
  {
   "cell_type": "markdown",
   "id": "b76f4e93-9934-40ba-a910-126f504d49a8",
   "metadata": {
    "tags": []
   },
   "source": [
    "### Graphische Darstellung der Mortalität vor und nach Zeitumstellung\n",
    "Für die folgende Visualisierung wurden Daten aus einem Bericht des statistischen Bundesamtes verwendet. Der Bericht beinhaltet die Anzahl der Sterbefälle für jeden Tag zwischen 2000 und 2019 in Deutschland. Die Visualisierung vergleicht die Anzahl der Sterbefälle vor und nach Beginn der Sommerzeit eines bestimmten Jahres und in einem Zeitraum von bis zu 14 Tagen. Der Violinplot eignet sich hier, da er die Verteilung der Sterbefälle anschaulich vergleicht.\n",
    "\n",
    "Mithilfe des Dropdown Menüs kann das zu betrachtene Jahr ausgewählt werden. Der Schieberegler wird verwendet, um die Anzahl der Tage auszuwählen, die jeweils vor und nach Beginn der Sommerzeit in den Plot einfließen. So lässt sich der Effekt für individuelle Zeiträume betrachten, da die Mortalität auch noch Tage nach der Zeitumstellung beeinflusst werden kann (Klerman et al, 2024).\n"
   ]
  },
  {
   "cell_type": "code",
   "execution_count": 4,
   "id": "c52b6b40-42f6-4b6b-aa28-81b05d509cab",
   "metadata": {
    "jupyter": {
     "source_hidden": true
    },
    "tags": []
   },
   "outputs": [
    {
     "data": {
      "application/vnd.jupyter.widget-view+json": {
       "model_id": "36ba101a7e5546a5bd6ac1ca13f50a76",
       "version_major": 2,
       "version_minor": 0
      },
      "text/plain": [
       "interactive(children=(Dropdown(description='Jahr:', options=('2000', '2001', '2002', '2003', '2004', '2005', '…"
      ]
     },
     "metadata": {},
     "output_type": "display_data"
    }
   ],
   "source": [
    "#run this cell\n",
    "%run datenvisualisierung.ipynb"
   ]
  },
  {
   "cell_type": "markdown",
   "id": "ebf82509-1201-4c1a-b2a3-5d004d2d3038",
   "metadata": {
    "tags": []
   },
   "source": [
    "### Diskussion\n",
    "Eine Korrelation kann nicht garantiert werden. Dazu müssten Ergebnisse auf statistische Signifikanz überprüft werden. Es handelt sich eher um ein exploratives Tool. Außerdem ist Quantität ist nur **ein** wichtiger Faktor für 'guten' Schlaf. Bei einer genauen Analyse sind weitere Faktoren zu berücksichtigen, welche die Mortalität beeinflussen können, wie z.B. Demografie oder Hitzewellen."
   ]
  },
  {
   "cell_type": "markdown",
   "id": "28aa0b0d-a147-413f-b7e6-1d01490c9fce",
   "metadata": {},
   "source": [
    "### Datenquelle\n",
    "\n",
    "Die verwendeten Daten stammen vom Statistischen Bundesamt. Sie stehen unter der [Datenlizenz Deutschland – Namensnennung – Version 2.0](http://www.govdata.de/dl-de/by-2-0). Originaldatensatz: [https://www.destatis.de/](https://www.destatis.de/DE/Themen/Gesellschaft-Umwelt/Bevoelkerung/Sterbefaelle-Lebenserwartung/Publikationen/Downloads-Sterbefaelle/statistischer-bericht-sterbefaelle-tage-wochen-monate-endg-5126108.html?nn=209016)."
   ]
  },
  {
   "cell_type": "markdown",
   "id": "b1c8f868-75f8-45f7-8f6c-31935dfe8250",
   "metadata": {
    "tags": []
   },
   "source": [
    "### Literaturverzeichnis\n",
    "\n",
    "Malow, B. A. (2022). It is time to abolish the clock change and adopt permanent standard time in the United States: a Sleep Research Society position statement. Sleep, 45(12). https://doi.org/10.1093/sleep/zsac236\n",
    "\n",
    "Klerman, E. B., Weaver, M. D., Roenneberg, T., Malow, B. A. & Johnson, K. G. (2024). Daylight saving time and mortality—proceed with caution. Nature Communications, 15(1). https://doi.org/10.1038/s41467-024-45837-4"
   ]
  }
 ],
 "metadata": {
  "kernelspec": {
   "display_name": "Python 3 (ipykernel)",
   "language": "python",
   "name": "python3"
  },
  "language_info": {
   "codemirror_mode": {
    "name": "ipython",
    "version": 3
   },
   "file_extension": ".py",
   "mimetype": "text/x-python",
   "name": "python",
   "nbconvert_exporter": "python",
   "pygments_lexer": "ipython3",
   "version": "3.11.7"
  }
 },
 "nbformat": 4,
 "nbformat_minor": 5
}
